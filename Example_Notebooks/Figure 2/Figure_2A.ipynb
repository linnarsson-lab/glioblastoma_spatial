{
 "cells": [
  {
   "cell_type": "code",
   "execution_count": 39,
   "id": "1101531e-b602-4c72-bbf7-4188fbcf4f2d",
   "metadata": {},
   "outputs": [],
   "source": [
    "import matplotlib.pyplot as plt\n",
    "import numpy as np\n",
    "from matplotlib_scalebar.scalebar import ScaleBar\n",
    "\n",
    "import scipy\n",
    "import tifffile\n",
    "\n",
    "import pandas as pd"
   ]
  },
  {
   "cell_type": "code",
   "execution_count": null,
   "id": "1278c423-7355-47b0-9920-1105ae6e04b9",
   "metadata": {},
   "outputs": [],
   "source": [
    "#Import all data, set genes\n",
    "fish_datasets = ['../SL027A_000h_output-XETG00045__0021448__4__20240131__210104/transcripts.parquet',\n",
    "                '../SL027A_072h_hyppla_output-XETG00045__0021360__28__20240131__210109/transcripts.parquet',\n",
    "                '../SL027A_144h_hyppla_output-XETG00045__0021360__40__20240131__210109/transcripts.parquet']\n",
    "\n",
    "nuclei_images = ['../SL027A_000h_output-XETG00045__0021448__4__20240131__210104/morphology_mip.ome.tif',\n",
    "                '../SL027A_072h_hyppla_output-XETG00045__0021360__28__20240131__210109/morphology_mip.ome.tif',\n",
    "                '../SL027A_144h_hyppla_output-XETG00045__0021360__40__20240131__210109/morphology_mip.ome.tif']\n",
    "\n",
    "genes = ['CD44', 'SOX2', 'VEGFA']\n",
    "colors = [(250/255, 242/255, 133/255), (70/255, 130/255, 193/255), (197/255, 30/255, 84/255)]\n",
    "x_limits = [(350,1250), (300,1500), (250,1250)]\n",
    "y_limits = [(400,1200), (500,1350), (300,1200)]\n",
    "sizes = [0.5, 1.5, 0.5]"
   ]
  },
  {
   "cell_type": "code",
   "execution_count": null,
   "id": "bc3cce32-f779-458b-ac1a-66c6262ca7a3",
   "metadata": {},
   "outputs": [],
   "source": [
    "for i in range(len(fish_datasets)):\n",
    "    \n",
    "    #Filter and adjust the data according to the instruction in https://kb.10xgenomics.com/hc/en-us/articles/11636252598925-What-are-the-Xenium-image-scale-factors\n",
    "    dots = pd.read_parquet(fish_datasets[i])\n",
    "    dots = dots[(dots['qv'] >= 20) & (dots['cell_id'] != 'UNASSIGNED')]\n",
    "              \n",
    "    with tifffile.TiffFile(nuclei_images[i]) as tif:\n",
    "        image = tif.series[0].levels[0].asarray()\n",
    "    nuclei = scipy.ndimage.zoom(image, 0.2125)\n",
    "    \n",
    "    for g in range(len(genes)):\n",
    "        \n",
    "        #Plot\n",
    "        plt.rcParams[\"figure.figsize\"] = (10,10)\n",
    "        plt.imshow(nuclei, cmap='Greys_r', alpha=1)\n",
    "        \n",
    "        plt.scatter(\n",
    "            x = 'x_location', y = 'y_location',\n",
    "            data = dots[dots['feature_name']==genes[g]],\n",
    "            color = colors[g],\n",
    "            s = sizes[g], alpha = 1)\n",
    "\n",
    "        scalebar = ScaleBar(1, 'µm', fixed_value=200, color = 'white', location='lower right', font_properties={\"size\": 1})\n",
    "        plt.gca().add_artist(scalebar)\n",
    "\n",
    "        plt.axis('off')\n",
    "        plt.xlim(x_limits[i])\n",
    "        plt.ylim(y_limits[i])\n",
    "        name = fish_datasets[i][fish_datasets[i].find('SL'):fish_datasets[i].find('output')] + genes[g] + '.png'\n",
    "        plt.savefig('../Figure2/' + name, dpi=600, bbox_inches='tight', pad_inches=0, transparent=True)\n",
    "        plt.close()"
   ]
  },
  {
   "cell_type": "code",
   "execution_count": null,
   "id": "d8228226-5d93-4caf-8408-29309d3d5d40",
   "metadata": {},
   "outputs": [],
   "source": []
  }
 ],
 "metadata": {
  "kernelspec": {
   "display_name": "fish",
   "language": "python",
   "name": "fish"
  },
  "language_info": {
   "codemirror_mode": {
    "name": "ipython",
    "version": 3
   },
   "file_extension": ".py",
   "mimetype": "text/x-python",
   "name": "python",
   "nbconvert_exporter": "python",
   "pygments_lexer": "ipython3",
   "version": "3.9.19"
  }
 },
 "nbformat": 4,
 "nbformat_minor": 5
}
