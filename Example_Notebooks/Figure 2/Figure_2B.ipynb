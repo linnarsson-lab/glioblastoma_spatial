{
 "cells": [
  {
   "cell_type": "code",
   "execution_count": null,
   "id": "e4abe79d-2e7f-47a9-b524-06318807b160",
   "metadata": {},
   "outputs": [],
   "source": [
    "import scanpy as sc\n",
    "import os\n",
    "import pandas as pd\n",
    "import matplotlib as mpl\n",
    "import sys\n",
    "import numpy as np\n",
    "import matplotlib.pyplot as plt\n",
    "sys.path.append('/wsfish/glioblastoma/')\n",
    "import FISHspace as sp\n",
    "\n",
    "%reload_ext autoreload\n",
    "%autoreload 2\n",
    "\n",
    "mpl.rcParams['pdf.fonttype'] = 42\n",
    "\n",
    "# save figure with no pad\n",
    "mpl.rcParams['savefig.pad_inches'] = 0\n",
    "mpl.rcParams['savefig.bbox'] = 'tight'\n",
    "\n",
    "# set axes width\n",
    "mpl.rcParams['axes.linewidth'] = 0.2\n",
    "mpl.rcParams['xtick.minor.pad'] = 0\n",
    "mpl.rcParams['xtick.major.pad'] = 0\n",
    "mpl.rcParams['ytick.minor.pad'] = 0\n",
    "mpl.rcParams['ytick.major.pad'] = 0\n",
    "mpl.rcParams['xtick.minor.width'] = 0.2\n",
    "mpl.rcParams['xtick.major.width'] = 0.2\n",
    "mpl.rcParams['ytick.minor.width'] = 0.2\n",
    "mpl.rcParams['ytick.major.width'] = 0.2\n",
    "\n",
    "# use colorblind seaborn style\n",
    "plt.style.use('seaborn-colorblind')"
   ]
  },
  {
   "cell_type": "markdown",
   "id": "5ba62e11-a2ba-4533-9770-66173a2ca394",
   "metadata": {},
   "source": [
    "# Full Data"
   ]
  },
  {
   "cell_type": "code",
   "execution_count": null,
   "id": "4baa9c90-f8df-4f38-8882-c755ad3542f9",
   "metadata": {},
   "outputs": [],
   "source": [
    "#adata_full = sc.read_h5ad('../OrganoidAnalysis/integration/GBMOrganoids_scVIsurgery.h5ad')"
   ]
  },
  {
   "cell_type": "code",
   "execution_count": null,
   "id": "d5210fdb-6c8f-45da-8746-bb7520796481",
   "metadata": {},
   "outputs": [],
   "source": [
    "adata_full = sc.read_h5ad('../OrganoidAnalysis/integration/GBMOrganoids_scVIsurgery20240408.h5ad')"
   ]
  },
  {
   "cell_type": "code",
   "execution_count": null,
   "id": "29118bf4-a841-4b8f-aba6-00768ef0d87e",
   "metadata": {},
   "outputs": [],
   "source": [
    "annotation_colors = {\n",
    "    'rAC':'#FF6EC7',\n",
    "    'preOPC':'#7befb2',\n",
    "    '+HYP2': '#C50F53',\n",
    "    'RG':'#ff9470',\n",
    "    'GBL':'#b9e670',\n",
    "    'nIPC':'#FFF192',\n",
    "    'OPC':'#89c4f4',\n",
    "    'AC':'#2ecc71',\n",
    "    '+HYP1':'#EDE8F3',\n",
    "    '+HYP3':'#840034',\n",
    "    'FBL':'#9f5afd',\n",
    "    '+HR1':'#e3ba8f',\n",
    "    '+HR2':'#825e5c', #'#be5683',\n",
    "    'OPC2':'#89c4f4',\n",
    "}\n",
    "\n",
    "annotation_colors = {\n",
    "    '+HYP2':'#840034',\n",
    "    'preOPC': '#7befb2',\n",
    "    'RG':'#ff9470',\n",
    "    '+HYP1':'#C50F53',\n",
    "    'AC1':'#2ecc71',\n",
    "    'nIPC':'#FFF192',\n",
    "    'OPC':'#89c4f4',\n",
    "    'GBL':'#b9e670',\n",
    "    'hAC':'#EDE8F3',\n",
    "    'AC2':'#2ecc71',\n",
    "    'FBL':'#9f5afd',\n",
    "    'rAC':'#e3ba8f',\n",
    "    'cOPC':'#038aff',\n",
    "    'Unknown':'#efeff0',\n",
    "}"
   ]
  },
  {
   "cell_type": "code",
   "execution_count": null,
   "id": "c6c2025a-24dd-4a84-b629-8cfb348e51c4",
   "metadata": {},
   "outputs": [],
   "source": [
    "plt.figure(figsize=(2.5,2.5))\n",
    "sc.pl.umap(\n",
    "    adata_full,\n",
    "    color=[\"annotation_20240408\",\"majority_voting\",\"line\"],\n",
    "    frameon=False,\n",
    "    ncols=4,\n",
    "    s=10,\n",
    ")"
   ]
  },
  {
   "cell_type": "code",
   "execution_count": null,
   "id": "e15bd466-04a6-4da4-bc08-b6543837cf51",
   "metadata": {},
   "outputs": [],
   "source": [
    "import warnings\n",
    "warnings.simplefilter(action='ignore', category=FutureWarning)\n",
    "sc.tl.rank_genes_groups(adata_full, groupby='condition', method='wilcoxon')\n",
    "sc.pl.rank_genes_groups(adata_full,n_genes=25)"
   ]
  },
  {
   "cell_type": "code",
   "execution_count": null,
   "id": "fcf28145-88da-439a-b88b-ee06173d11e6",
   "metadata": {},
   "outputs": [],
   "source": [
    "import warnings\n",
    "warnings.simplefilter(action='ignore', category=FutureWarning)\n",
    "sc.tl.rank_genes_groups(adata_full, groupby='time', method='t-test',)\n",
    "sc.pl.rank_genes_groups(adata_full,n_genes=10)"
   ]
  },
  {
   "cell_type": "code",
   "execution_count": null,
   "id": "6e96e3b6-c292-4dbc-8d34-a0483ebf5292",
   "metadata": {},
   "outputs": [],
   "source": [
    "import warnings\n",
    "warnings.simplefilter(action='ignore', category=FutureWarning)\n",
    "sc.tl.rank_genes_groups(adata_full, groupby='annotation_20240408', method='t-test')"
   ]
  },
  {
   "cell_type": "code",
   "execution_count": null,
   "id": "7dfe5965-6eef-4c89-a685-7f257bc82c6f",
   "metadata": {},
   "outputs": [],
   "source": [
    "mpl.rcParams['figure.figsize'] = 4,4\n",
    "mpl.rcParams['axes.grid'] = True\n",
    "sc.pl.rank_genes_groups(adata_full)"
   ]
  },
  {
   "cell_type": "code",
   "execution_count": null,
   "id": "8d29ff8b-38c5-4693-9739-3d2d1f9848b5",
   "metadata": {},
   "outputs": [],
   "source": [
    "leiden_colors = adata_full.uns['annotation_20240408_colors']"
   ]
  },
  {
   "cell_type": "code",
   "execution_count": null,
   "id": "a6f5761e-551a-4374-9d6b-2904da818c0c",
   "metadata": {},
   "outputs": [],
   "source": [
    "adata_full = adata_full[adata_full.obs['annotation_20240408'] != 'Unknown']"
   ]
  },
  {
   "cell_type": "code",
   "execution_count": null,
   "id": "8082b3c2-c6fb-4a17-bda5-389886ac0fd6",
   "metadata": {
    "tags": []
   },
   "outputs": [],
   "source": [
    "cluster_key = 'annotation_20240408'\n",
    "folder = 'annotation20240408'\n",
    "filename = 'Hypoxia'\n",
    "\n",
    "adata_c = adata_full[(adata_full.obs.condition == 'hyp') | (adata_full.obs.condition == 'initial')]\n",
    "\n",
    "#add Sample for plotting lines separaterly\n",
    "adata_c.obs['Sample'] = pd.Categorical([l+'-'+t for l, t in  zip(adata_c.obs.line, adata_c.obs.time)])\n",
    "adata_c.obs['Area'] = adata_c.obs.cell_area\n",
    "\n",
    "line_order = adata_c.obs.line.cat.categories.tolist()\n",
    "time_order = ['000h', '024h', '072h', '144h']\n",
    "\n",
    "\n",
    "for s in adata_c.obs['Sample'].cat.categories:\n",
    "    fig, axs= plt.subplots(nrows=1, ncols=1,figsize=(3,3))\n",
    "    n = line_order.index(s.split('-')[0])\n",
    "    t = time_order.index(s.split('-')[1])\n",
    "    \n",
    "    sp.pl.plot_polygons(\n",
    "        adata_c,\n",
    "        sample=s,\n",
    "        clusters=adata_c.obs[cluster_key].cat.categories.tolist(),\n",
    "        cluster_key=cluster_key,\n",
    "        palette= annotation_colors,\n",
    "        area_min_size=3,\n",
    "        ax=axs,\n",
    "    )\n",
    "    \n",
    "    axs.title.set_text('{}-{}'.format\n",
    "                               (\n",
    "                                   s.split('-')[0], \n",
    "                                   s.split('-')[1],\n",
    "                               )\n",
    "                              )\n",
    "    plt.savefig('figures/{}/{}_{}.svg'.format(folder, filename, s), dpi=300, format='svg',bbox_inches='tight')\n",
    "    plt.show()"
   ]
  },
  {
   "cell_type": "code",
   "execution_count": null,
   "id": "619c5b18-489c-4cbe-b138-0b9808dd3f5d",
   "metadata": {},
   "outputs": [],
   "source": []
  },
  {
   "cell_type": "code",
   "execution_count": null,
   "id": "50bcc350-fa9f-419b-b941-670b30052abf",
   "metadata": {
    "tags": []
   },
   "outputs": [],
   "source": [
    "cluster_key = 'annotation_20240408'\n",
    "folder = 'annotation20240408'\n",
    "filename = 'Plasma'\n",
    "adata_c = adata_full[(adata_full.obs.condition == 'pla') | (adata_full.obs.condition == 'initial')]\n",
    "\n",
    "#add Sample for plotting lines separaterly\n",
    "adata_c.obs['Sample'] = pd.Categorical([l+'-'+t for l, t in  zip(adata_c.obs.line, adata_c.obs.time)])\n",
    "adata_c.obs['Area'] = adata_c.obs.cell_area\n",
    "\n",
    "line_order = adata_c.obs.line.cat.categories.tolist()\n",
    "time_order = ['000h', '024h', '072h', '144h']\n",
    "\n",
    "\n",
    "for s in adata_c.obs['Sample'].cat.categories:\n",
    "    fig, axs= plt.subplots(nrows=1, ncols=1,figsize=(3,3))\n",
    "    n = line_order.index(s.split('-')[0])\n",
    "    t = time_order.index(s.split('-')[1])\n",
    "    \n",
    "    sp.pl.plot_polygons(\n",
    "        adata_c,\n",
    "        sample=s,\n",
    "        clusters=adata_c.obs[cluster_key].cat.categories.tolist(),\n",
    "        cluster_key=cluster_key,\n",
    "        palette= annotation_colors,\n",
    "        area_min_size=3,\n",
    "        ax=axs,\n",
    "    )\n",
    "    \n",
    "    axs.title.set_text('{}-{}'.format\n",
    "                               (\n",
    "                                   s.split('-')[0], \n",
    "                                   s.split('-')[1],\n",
    "                               )\n",
    "                              )\n",
    "    plt.savefig('figures/{}/{}_{}.svg'.format(folder, filename, s), dpi=300, format='svg',bbox_inches='tight')\n",
    "    plt.show()"
   ]
  },
  {
   "cell_type": "code",
   "execution_count": null,
   "id": "07affec1-1f6b-493e-aec5-afd0db3e86c5",
   "metadata": {
    "tags": []
   },
   "outputs": [],
   "source": [
    "cluster_key = 'annotation_20240408'\n",
    "folder = 'annotation20240408'\n",
    "filename = 'HypoxiaPlasma'\n",
    "\n",
    "adata_c = adata_full[(adata_full.obs.condition == 'hyppla') | (adata_full.obs.condition == 'initial')]\n",
    "\n",
    "#add Sample for plotting lines separaterly\n",
    "adata_c.obs['Sample'] = pd.Categorical([l+'-'+t for l, t in  zip(adata_c.obs.line, adata_c.obs.time)])\n",
    "adata_c.obs['Area'] = adata_c.obs.cell_area\n",
    "\n",
    "line_order = adata_c.obs.line.cat.categories.tolist()\n",
    "time_order = ['000h', '024h', '072h', '144h']\n",
    "\n",
    "\n",
    "for s in adata_c.obs['Sample'].cat.categories:\n",
    "    fig, axs= plt.subplots(nrows=1, ncols=1,figsize=(3,3))\n",
    "    n = line_order.index(s.split('-')[0])\n",
    "    t = time_order.index(s.split('-')[1])\n",
    "    \n",
    "    sp.pl.plot_polygons(\n",
    "        adata_c,\n",
    "        sample=s,\n",
    "        clusters=adata_c.obs[cluster_key].cat.categories.tolist(),\n",
    "        cluster_key=cluster_key,\n",
    "        palette= annotation_colors,\n",
    "        area_min_size=3,\n",
    "        ax=axs,\n",
    "    )\n",
    "    \n",
    "    axs.title.set_text('{}-{}'.format\n",
    "                               (\n",
    "                                   s.split('-')[0], \n",
    "                                   s.split('-')[1],\n",
    "                               )\n",
    "                              )\n",
    "    plt.savefig('figures/{}/{}_{}.svg'.format(folder, filename, s), dpi=300, format='svg',bbox_inches='tight')\n",
    "    plt.show()"
   ]
  },
  {
   "cell_type": "code",
   "execution_count": null,
   "id": "edd10e93-d314-40a3-89c4-598eefe6d011",
   "metadata": {},
   "outputs": [],
   "source": [
    "sc.pl.umap(\n",
    "    adata_full,\n",
    "    color=[\n",
    "        #\"total_counts\",\n",
    "        #\"batch\",\n",
    "        'SOX2','SOX9',\n",
    "        'FOXG1',\n",
    "        'AQP4','HOPX',\n",
    "        'HES1','PAX6',\n",
    "        \n",
    "        'EGFR','APOE',\n",
    "        'PDGFRA','CHI3L1',\n",
    "        'CDK4','STMN1',\n",
    "        'OLIG1', 'OLIG2',\n",
    "        'DLL3','CRYAB',\n",
    "        'TNC','BCAN',\n",
    "        'COL1A1','COL3A1','CTSH','DCN',\n",
    "        'NHLH1','SOX10',\n",
    "        'RGS16',\n",
    "        'EPAS1','IGFBP3','CD44',\n",
    "        'TGFBI','VEGFA',\n",
    "        'total_counts',\n",
    "        \n",
    "    ],\n",
    "    s=30,\n",
    "    use_raw=False,\n",
    "    cmap='magma',\n",
    "    wspace=0.4,\n",
    "    frameon=False,\n",
    ")"
   ]
  },
  {
   "cell_type": "markdown",
   "id": "ee49103f-f691-4f20-95ef-676697f7dda5",
   "metadata": {},
   "source": [
    "# Clustering at t0"
   ]
  },
  {
   "cell_type": "code",
   "execution_count": null,
   "id": "9e11bea6-9e60-4812-877b-8f84ea21780e",
   "metadata": {},
   "outputs": [],
   "source": [
    "adata_t0 = adata_full[adata_full.obs.time == '000h'].copy()"
   ]
  },
  {
   "cell_type": "code",
   "execution_count": null,
   "id": "5852696f-6c32-4504-8b5d-652b782fb5e0",
   "metadata": {},
   "outputs": [],
   "source": [
    "sc.pp.neighbors(adata_t0, use_rep=\"X_scVI\")\n",
    "sc.tl.umap(adata_t0)"
   ]
  },
  {
   "cell_type": "code",
   "execution_count": null,
   "id": "9e29378a-d255-456c-a65f-990d3a289822",
   "metadata": {},
   "outputs": [],
   "source": [
    "r = 1\n",
    "sc.tl.leiden(adata_t0,resolution=r,key_added='leiden_{}'.format(r))\n",
    "\n",
    "r = 0.75\n",
    "sc.tl.leiden(adata_t0, resolution=r,key_added='leiden_{}'.format(r) )\n",
    "\n",
    "r = 0.8\n",
    "sc.tl.leiden(adata_t0,resolution=r,key_added='leiden_{}'.format(r))\n",
    "\n",
    "r = 0.85\n",
    "sc.tl.leiden(adata_t0,resolution=r,key_added='leiden_{}'.format(r))\n",
    "\n",
    "r = 0.95\n",
    "sc.tl.leiden(adata_t0,resolution=r,key_added='leiden_{}'.format(r))\n",
    "\n"
   ]
  },
  {
   "cell_type": "code",
   "execution_count": null,
   "id": "f7affba0-2531-4fa4-a2a8-23e63ca23f98",
   "metadata": {},
   "outputs": [],
   "source": [
    "plt.figure(figsize=(2.5,2.5))\n",
    "sc.pl.umap(\n",
    "    adata_t0,\n",
    "    color=[\"leiden_0.75\",\"leiden_0.5\", \"leiden_0.85\",\"leiden_0.8\"],\n",
    "    frameon=False,\n",
    "    ncols=4,\n",
    "    s=10,\n",
    ")"
   ]
  },
  {
   "cell_type": "code",
   "execution_count": null,
   "id": "647ba259-eca0-4c75-97fe-582db0dd077d",
   "metadata": {},
   "outputs": [],
   "source": [
    "import warnings\n",
    "warnings.simplefilter(action='ignore', category=FutureWarning)\n",
    "sc.tl.rank_genes_groups(adata_t0, groupby='leiden_0.8', method='t-test')"
   ]
  },
  {
   "cell_type": "code",
   "execution_count": null,
   "id": "a8708e59-30a5-4c80-bc19-e6c0137c4601",
   "metadata": {},
   "outputs": [],
   "source": [
    "mpl.rcParams['figure.figsize'] = 4,4\n",
    "mpl.rcParams['axes.grid'] = True\n",
    "sc.pl.rank_genes_groups(adata_t0)"
   ]
  },
  {
   "cell_type": "code",
   "execution_count": null,
   "id": "3d8eea1c-2c43-40f9-ad78-2678627557cc",
   "metadata": {},
   "outputs": [],
   "source": [
    "sc.pl.umap(\n",
    "    adata_t0,\n",
    "    color=[\n",
    "\n",
    "        'EPAS1','IGFBP3','CD44','TGFBI','VEGFA','IGFBP5','HILPDA','TIMP1','TGFB1','TGFB2','CD44',\n",
    "        'MCM5','PROX1','SOX9','PLD5','POSTN','HIF1A','CNTNAP3B','STK32B','SLC2A1',\n",
    "        'TP73','SERPINE1',\n",
    "        'total_counts',    \n",
    "    ],\n",
    "    s=30,\n",
    "    use_raw=False,\n",
    "    cmap='magma',\n",
    "    wspace=0.4,\n",
    "    frameon=False,\n",
    ")"
   ]
  },
  {
   "cell_type": "code",
   "execution_count": null,
   "id": "0799be47-bada-42d8-acaf-9f94e6caf3e5",
   "metadata": {},
   "outputs": [],
   "source": [
    "annotation = {\n",
    "    0:'+HYP1',\n",
    "    1:'Reactive Ast',\n",
    "    2:'RG',\n",
    "    3:'preOPC',\n",
    "    4:'GBL',\n",
    "    5:'+WH',\n",
    "    6:'+HYP0',\n",
    "    7:'FBL',\n",
    "    8:'nIPC',\n",
    "    9:'OPC',\n",
    "    \n",
    "}\n",
    "adata_t0.obs['annotation'] = pd.Categorical([annotation[int(c)] for c in adata_t0.obs['leiden_0.8']])\n",
    "adata_t0.write_h5ad('GBM_t0.h5ad')"
   ]
  },
  {
   "cell_type": "code",
   "execution_count": null,
   "id": "304777d2-e9d4-4347-920a-3835ba7fd10a",
   "metadata": {
    "collapsed": true,
    "jupyter": {
     "outputs_hidden": true
    },
    "tags": []
   },
   "outputs": [],
   "source": [
    "sc.pl.umap(\n",
    "    adata_t0,\n",
    "    color=[\n",
    "        #\"total_counts\",\n",
    "        #\"batch\",\n",
    "        'SOX2','SOX9','SOX4','FOXG1',\n",
    "        'HES1','PAX6',\n",
    "        'TNC','BCAN','EDNRB','TTYH1',\n",
    "        'CRYAB','HOPX',\n",
    "        \n",
    "        'ST18','CNTN1', 'CDK4','STMN1','NHLH1','RGS16',\n",
    "    \n",
    "        'AQP4','SLC1A3','CHI3L1','MGST1','APOE','GJA1','GFAP',\n",
    "        \n",
    "        'EGFR','DLL3',\n",
    "        'SOX10',\n",
    "        'PDGFRA', 'OLIG1', 'OLIG2',\n",
    "        \n",
    "        'COL1A1', 'COL3A1','DCN','TENM1','CD74','ARHGAP24','CALCRL',\n",
    "        'SEMA5A',\n",
    "        #'EPAS1','IGFBP3','CD44','TGFBI','VEGFA','IGFBP5','HILPDA','TIMP1','TGFB1','TGFB2','CD44'\n",
    "        'MCM5',\n",
    "        'total_counts',    \n",
    "    ],\n",
    "    s=30,\n",
    "    use_raw=False,\n",
    "    cmap='magma',\n",
    "    wspace=0.4,\n",
    "    frameon=False,\n",
    ")"
   ]
  },
  {
   "cell_type": "code",
   "execution_count": null,
   "id": "8b8c8330-f4a9-4755-8853-0bcc81a86980",
   "metadata": {
    "collapsed": true,
    "jupyter": {
     "outputs_hidden": true
    },
    "tags": []
   },
   "outputs": [],
   "source": [
    "#add Sample for plotting lines separaterly\n",
    "adata_t0.obs['Sample'] = adata_t0.obs.line\n",
    "adata_t0.obs['Area'] = adata_t0.obs.cell_area\n",
    "fig, axs= plt.subplots(nrows=4,ncols=1,figsize=(10,10))\n",
    "\n",
    "cluster = 'leiden_0.8'\n",
    "for n, line in zip(range(4), adata_t0.obs['Sample'].cat.categories):\n",
    "    sp.pl.plot_polygons(\n",
    "        adata_t0,\n",
    "        sample=line,\n",
    "        clusters=adata_t0.obs.leiden.cat.categories.tolist(),\n",
    "        cluster_key=cluster,\n",
    "        palette= {str(i):c for i,c in enumerate(adata_t0.uns['{}_colors'.format(cluster)])},\n",
    "        area_min_size=3,\n",
    "        ax=axs[n]\n",
    "    )"
   ]
  },
  {
   "cell_type": "code",
   "execution_count": null,
   "id": "024a47fd-218c-422f-877a-51b29756ee96",
   "metadata": {},
   "outputs": [],
   "source": [
    "markers = adata_t0.uns['rank_genes_groups']"
   ]
  },
  {
   "cell_type": "code",
   "execution_count": null,
   "id": "770d91f9-3536-45d1-a767-3c8dd5d2f4b1",
   "metadata": {},
   "outputs": [],
   "source": [
    "sc.tl.filter_rank_genes_groups(adata_t0,min_fold_change=1,)"
   ]
  },
  {
   "cell_type": "code",
   "execution_count": null,
   "id": "96abd853-7920-45b0-970a-6f63880e191b",
   "metadata": {},
   "outputs": [],
   "source": [
    "markers = adata_t0.uns['rank_genes_groups']['names']"
   ]
  },
  {
   "cell_type": "code",
   "execution_count": null,
   "id": "4242e01a-93f8-4026-8d20-19c410295fba",
   "metadata": {},
   "outputs": [],
   "source": []
  },
  {
   "cell_type": "code",
   "execution_count": null,
   "id": "13e04737-c7f7-467d-a8bd-31f22c5f3676",
   "metadata": {},
   "outputs": [],
   "source": [
    "'''\n",
    "dic_markers = {annotation[c]: [] for c in annotation}\n",
    "#Top 15 markers\n",
    "for m in range(5):\n",
    "    for c in annotation:\n",
    "        dic_markers[annotation[c]].append(markers[m][c])\n",
    "'''\n",
    "\n",
    "dic_markers = {\n",
    "    '+HYP1': ['VEGFA', 'HILPDA', 'CD44', 'IGFBP5'],\n",
    "    'Reactive Ast': ['APOE', 'MGST1', 'CHI3L1','TP73','SERPINE1'],\n",
    "    'RG': ['TOP2A', 'CENPF','PAX6'],\n",
    "    'preOPC': ['SOX4', 'ERBB3', 'SOX10', 'CNTN1','EGFR'],\n",
    "    'GBL': ['SLC1A3', 'EDNRB', 'AQP4', 'TTYH1','BCAN','TNC'],\n",
    "    '+WH': ['TGFBI', 'HOPX', 'TIMP1'],\n",
    "    '+HYP0': ['EPAS1', 'IGFBP3','SLC2A1','PROX1','HIF1A'],\n",
    "    'FBL': ['COL3A1','DCN','TENM1','CD74','ARHGAP24','CALCRL'],\n",
    "    'nIPC': ['SOX11', 'SOX4', 'STMN1', 'ST18', 'CEMIP2','MEIS2','NHLH1','DLX2'],\n",
    "    'OPC': ['BCAN', 'SOX10', 'DLL3', 'SOX4', 'PDGFRA'],\n",
    "}\n",
    "\n",
    "enrichment_table = []\n",
    "all_enriched_genes = np.unique(np.array(sum(dic_markers.values(), [])))\n",
    "for g in all_enriched_genes:\n",
    "    l = [1 if g in dic_markers[c] else 0 for c in dic_markers]\n",
    "    enrichment_table.append(l)\n",
    "    \n",
    "enrichment_table = np.array(enrichment_table)\n",
    "enrichment_table = pd.DataFrame(data=enrichment_table.astype(np.int64), index=all_enriched_genes, columns= list(dic_markers.keys()) )\n",
    "enrichment_table.to_parquet('Marker_table_GBO_t0.parquet')"
   ]
  },
  {
   "cell_type": "code",
   "execution_count": null,
   "id": "b7d2afc6-2fb6-478d-9b14-1dd03b5f9fc2",
   "metadata": {},
   "outputs": [],
   "source": [
    "labels = adata_t0.obs['leiden_0.8'].values.astype(int)\n",
    "enrichment = enrich_(labels)\n",
    "\n",
    "e = enrichment._fit(\n",
    "    adata_t0.layers['counts'].astype('int64').T,permute=True\n",
    ")\n",
    "\n",
    "dic_markers = {}\n",
    "for c in range(e.shape[1]):\n",
    "    order = e[:,c].argsort()[::-1]\n",
    "    markers = adata_t0.var_names[order[:25]]\n",
    "    dic_markers[annotation[c]] = markers\n",
    "    \n",
    "enrichment_table = []\n",
    "all_enriched_genes = np.unique(np.array(list( dic_markers.values())))\n",
    "for g in all_enriched_genes:\n",
    "    l = [1 if g in dic_markers[c] else 0 for c in dic_markers]\n",
    "    enrichment_table.append(l)\n",
    "enrichment_table = np.array(enrichment_table)\n",
    "enrichment_table = pd.DataFrame(data=enrichment_table.astype(np.int64), index=all_enriched_genes, columns= list(dic_markers.keys()) )\n",
    "enrichment_table.to_parquet('Enrichment_table_GBO_t0.parquet')"
   ]
  },
  {
   "cell_type": "code",
   "execution_count": null,
   "id": "c001ce18-6222-4349-a73c-7e83fa6b287a",
   "metadata": {},
   "outputs": [],
   "source": [
    "enrichment_table.shape"
   ]
  },
  {
   "cell_type": "markdown",
   "id": "dca8c83a-3620-4ed5-992d-3344fbba484a",
   "metadata": {},
   "source": [
    "# CellTypist"
   ]
  },
  {
   "cell_type": "code",
   "execution_count": null,
   "id": "d1025a24-91a6-4f75-8d1f-975eec9ddcee",
   "metadata": {},
   "outputs": [],
   "source": [
    "import celltypist"
   ]
  },
  {
   "cell_type": "code",
   "execution_count": null,
   "id": "fa5f07a8-dcbb-423f-b19f-66aa379fba3a",
   "metadata": {},
   "outputs": [],
   "source": [
    "adata_t0_ct = adata_t0.copy()"
   ]
  },
  {
   "cell_type": "code",
   "execution_count": null,
   "id": "3530ed96-8a2e-4fee-9d36-e2f0e95dedae",
   "metadata": {},
   "outputs": [],
   "source": [
    "sc.pp.normalize_total(adata_t0_ct, target_sum=1e4)\n",
    "sc.pp.log1p(adata_t0_ct)"
   ]
  },
  {
   "cell_type": "code",
   "execution_count": null,
   "id": "37a9366a-1960-4691-8324-6bd51d78f22b",
   "metadata": {},
   "outputs": [],
   "source": [
    "model = celltypist.train(adata_t0_ct, labels = 'annotation', n_jobs = 10, feature_selection = True)"
   ]
  },
  {
   "cell_type": "code",
   "execution_count": null,
   "id": "b1212f73-4dc9-4f2a-9082-550c9f3f3416",
   "metadata": {},
   "outputs": [],
   "source": []
  },
  {
   "cell_type": "code",
   "execution_count": null,
   "id": "e2525cc7-d4e9-4f88-9133-f6fcf8368269",
   "metadata": {},
   "outputs": [],
   "source": []
  },
  {
   "cell_type": "markdown",
   "id": "82893aa6-0899-4bb1-9490-4518f47825eb",
   "metadata": {},
   "source": [
    "# CellAssign Annotation"
   ]
  },
  {
   "cell_type": "code",
   "execution_count": null,
   "id": "e78c0bc5-0a47-462c-a933-8f685de289f8",
   "metadata": {},
   "outputs": [],
   "source": [
    "adata_t0"
   ]
  },
  {
   "cell_type": "code",
   "execution_count": null,
   "id": "b4826660-42aa-41ca-afc4-1f5d59cda876",
   "metadata": {},
   "outputs": [],
   "source": [
    "adata_t0.obs.index = adata_t0.obs.index.astype(\"str\")\n",
    "adata_t0.var.index = adata_t0.var.index.astype(\"str\")\n",
    "adata_t0.var_names_make_unique()\n",
    "adata_t0.obs_names_make_unique()"
   ]
  },
  {
   "cell_type": "code",
   "execution_count": null,
   "id": "64e4343e-3a93-4eff-a770-5aa15d7ee70b",
   "metadata": {},
   "outputs": [],
   "source": [
    "lib_size = adata_t0.X.sum(1)\n",
    "adata_t0.obs[\"size_factor\"] = lib_size / np.mean(lib_size)\n",
    "adata_t0_markers = adata_t0[:,enrichment_table.index].copy()"
   ]
  },
  {
   "cell_type": "code",
   "execution_count": null,
   "id": "e46b2475-a346-4f2f-90ab-0be5a3710adf",
   "metadata": {},
   "outputs": [],
   "source": [
    "import scvi\n",
    "from scvi.external import CellAssign\n",
    "scvi.external.CellAssign.setup_anndata(adata_t0_markers,size_factor_key='size_factor')"
   ]
  },
  {
   "cell_type": "code",
   "execution_count": null,
   "id": "3a73c069-ed12-4824-a3d0-345b9866def8",
   "metadata": {},
   "outputs": [],
   "source": [
    "state_model = CellAssign(adata_t0_markers, enrichment_table,)\n",
    "state_model.train()"
   ]
  },
  {
   "cell_type": "code",
   "execution_count": null,
   "id": "6deb3994-ac44-4c0a-ac0a-161ec585a820",
   "metadata": {},
   "outputs": [],
   "source": [
    "state_model.history[\"elbo_validation\"].plot()"
   ]
  },
  {
   "cell_type": "code",
   "execution_count": null,
   "id": "a1e46e07-81bd-4085-895d-28084b2c083a",
   "metadata": {},
   "outputs": [],
   "source": [
    "import seaborn as sns\n",
    "predictions = state_model.predict()\n",
    "sns.clustermap(predictions, cmap=\"viridis\")"
   ]
  },
  {
   "cell_type": "code",
   "execution_count": null,
   "id": "659821d0-3879-4ba9-8854-b92ca2db0dc8",
   "metadata": {},
   "outputs": [],
   "source": [
    "adata_t0_markers.obs['cellassign_predictions'] = predictions.idxmax(axis=1).values"
   ]
  },
  {
   "cell_type": "code",
   "execution_count": null,
   "id": "c76a745b-0597-4a2e-8bc2-5b5366909846",
   "metadata": {},
   "outputs": [],
   "source": [
    "df = adata_t0_markers.obs\n",
    "confusion_matrix = pd.crosstab(\n",
    "    df[\"cellassign_predictions\"],\n",
    "    df[\"annotation\"],\n",
    "    rownames=[\"cellassign_predictions\"],\n",
    "    colnames=[\"Original predictions\"],\n",
    ")\n",
    "confusion_matrix /= confusion_matrix.sum(1).ravel().reshape(-1, 1)\n",
    "fig, ax = plt.subplots(figsize=(5, 4))\n",
    "sns.heatmap(\n",
    "    confusion_matrix,\n",
    "    cmap=sns.diverging_palette(245, 320, s=60, as_cmap=True),\n",
    "    ax=ax,\n",
    "    square=True,\n",
    "    cbar_kws=dict(shrink=0.4, aspect=12),\n",
    ")"
   ]
  },
  {
   "cell_type": "code",
   "execution_count": null,
   "id": "7f70a41a-6da9-40ce-ae17-f6458df4dd0c",
   "metadata": {},
   "outputs": [],
   "source": []
  },
  {
   "cell_type": "markdown",
   "id": "50946a08-9a0c-4da0-9087-9faebcf542b8",
   "metadata": {},
   "source": [
    "# CellAssign annotation"
   ]
  },
  {
   "cell_type": "code",
   "execution_count": null,
   "id": "4e680f8b-5bc9-4a6d-89d6-e4d12c06a6f6",
   "metadata": {},
   "outputs": [],
   "source": [
    "import gdown\n",
    "def download_data(save_path: str):\n",
    "    sce_follicular_path = os.path.join(save_path, \"sce_follicular.h5ad\")\n",
    "    sce_hgsc_path = os.path.join(save_path, \"sce_hgsc.h5ad\")\n",
    "    fl_celltype_path = os.path.join(save_path, \"fl_celltype.csv\")\n",
    "    hgsc_celltype_path = os.path.join(save_path, \"hgsc_celltype.csv\")\n",
    "\n",
    "    gdown.download(\n",
    "        \"https://drive.google.com/uc?id=10l6m2KKKioCZnQlRHomheappHh-jTFmx\",\n",
    "        sce_follicular_path,\n",
    "        quiet=False,\n",
    "    )\n",
    "    gdown.download(\n",
    "        \"https://drive.google.com/uc?id=1Pae7VEcoZbKRvtllGAEWG4SOLWSjjtCO\",\n",
    "        sce_hgsc_path,\n",
    "        quiet=False,\n",
    "    )\n",
    "    gdown.download(\n",
    "        \"https://drive.google.com/uc?id=1tJSOI9ve0i78WmszMLx2ul8F8tGycBTd\",\n",
    "        fl_celltype_path,\n",
    "        quiet=False,\n",
    "    )\n",
    "    gdown.download(\n",
    "        \"https://drive.google.com/uc?id=1Mk5uPdnPC4IMRnuG5N4uFvypT8hPdJ74\",\n",
    "        hgsc_celltype_path,\n",
    "        quiet=False,\n",
    "    )\n",
    "\n",
    "    return (\n",
    "        sce_follicular_path,\n",
    "        sce_hgsc_path,\n",
    "        fl_celltype_path,\n",
    "        hgsc_celltype_path,\n",
    "    )\n"
   ]
  },
  {
   "cell_type": "code",
   "execution_count": null,
   "id": "c258d9c9-0506-41c5-91df-93637e23f83d",
   "metadata": {},
   "outputs": [],
   "source": [
    "save_dir = 'cellassign_dir'\n",
    "\n",
    "(\n",
    "    sce_follicular_path,\n",
    "    sce_hgsc_path,\n",
    "    fl_celltype_path,\n",
    "    hgsc_celltype_path,\n",
    ") = download_data(save_dir)\n"
   ]
  },
  {
   "cell_type": "code",
   "execution_count": null,
   "id": "4536c3e9-f6c0-40b6-ba95-9bc94b1ecd55",
   "metadata": {},
   "outputs": [],
   "source": [
    "follicular_adata = sc.read(sce_follicular_path)\n",
    "fl_celltype_markers = pd.read_csv(fl_celltype_path, index_col=0)\n",
    "\n",
    "follicular_adata.obs.index = follicular_adata.obs.index.astype(\"str\")\n",
    "follicular_adata.var.index = follicular_adata.var.index.astype(\"str\")\n",
    "follicular_adata.var_names_make_unique()\n",
    "follicular_adata.obs_names_make_unique()\n",
    "\n",
    "follicular_adata"
   ]
  },
  {
   "cell_type": "code",
   "execution_count": null,
   "id": "05fa112b-6a60-4b1f-bb78-567e95304d5e",
   "metadata": {},
   "outputs": [],
   "source": [
    "fl_celltype_markers.shape"
   ]
  },
  {
   "cell_type": "code",
   "execution_count": null,
   "id": "1881b352-db0b-419f-9457-bafaad162863",
   "metadata": {},
   "outputs": [],
   "source": [
    "class enrich_: #sparese\n",
    "   \n",
    "    def __init__(self, \n",
    "                 labels_attr: np.array) -> None:\n",
    "        self.labels_attr = labels_attr\n",
    "        self.permute_labs = None\n",
    "        self.sizes = None\n",
    "        self.nnz = None\n",
    "        self.means = None\n",
    "        self.f_nnz = None\n",
    "        \n",
    "    def _shuffle(self):\n",
    "        \n",
    "        permute_labs = np.random.permutation(self.labels_attr)\n",
    "\n",
    "        self.permute_labs = permute_labs\n",
    "        \n",
    "    def _sort_col(self,arr,ordering):\n",
    "        from scipy import sparse\n",
    "        \n",
    "        arr_list =[]\n",
    "        # arr_ = sparse_tmp.copy()\n",
    "        chunksize = 100000000 // arr.shape[1]\n",
    "        start = 0\n",
    "        while start < arr.shape[0]:\n",
    "            submatrix = arr[start:start + chunksize, :]\n",
    "            arr_list.append(submatrix[:, ordering])\n",
    "            start = start + chunksize\n",
    "            \n",
    "        return sparse.vstack(arr_list)\n",
    "\n",
    "    def _fit(self, mtx,permute:bool=False):\n",
    "        \n",
    "            if permute:\n",
    "                enrich_._shuffle()\n",
    "                labels = self.permute_labs\n",
    "                logging.info(f'permute{labels}')\n",
    "            \n",
    "            else: \n",
    "                labels = self.labels_attr \n",
    "            labels = labels.astype(float)\n",
    "            \n",
    "            # Need to sort out through labels first before doing the split \n",
    "            idx = np.unique(labels[np.argsort(labels)], return_index=True)\n",
    "            idx_ = np.concatenate([idx[1],[mtx.shape[1]]])\n",
    "            \n",
    "            mtx_ = self._sort_col(mtx,np.argsort(labels))\n",
    "    \n",
    "            alist = []\n",
    "            for i in range(len(idx_)-1):\n",
    "\n",
    "                alist.append(mtx_[:,idx_[i]:idx_[i+1]])   \n",
    "\n",
    "            n_labels = max(labels) + 1\n",
    "\n",
    "            n_cells = mtx_.shape[1]\n",
    "\n",
    "            sizes = np.zeros(len(idx[0]))\n",
    "            nnz=np.zeros([mtx_.shape[0],len(idx[0])])\n",
    "            means=np.zeros([mtx_.shape[0],len(idx[0])])\n",
    "            for i in np.arange(len(alist)):\n",
    "\n",
    "                nnz[:,i] = alist[i].getnnz(axis=1)\n",
    "                means[:,i] = np.squeeze((alist[i].mean(axis=1).A))\n",
    "                sizes[i] = alist[i].shape[1]\n",
    "                \n",
    "            self.sizes, self.nnz, self.means = sizes, nnz, means\n",
    "\n",
    "            # Non-zeros and means over all cells\n",
    "            (nnz_overall, means_overall) = mtx_.getnnz(axis=1),np.squeeze((mtx_.mean(axis=1).A))\n",
    "\n",
    "            # Scale by number of cells\n",
    "            f_nnz = nnz / sizes\n",
    "            f_nnz_overall = nnz_overall / n_cells\n",
    "            \n",
    "            self.f_nnz = f_nnz\n",
    "\n",
    "\n",
    "            # Means and fraction non-zero values in other clusters (per cluster)\n",
    "            means_other  = ((means_overall * n_cells)[None].T - (means * sizes)) / (n_cells - sizes)\n",
    "            f_nnz_other = ((f_nnz_overall * n_cells)[None].T - (f_nnz * sizes)) / (n_cells - sizes)\n",
    "\n",
    "            # enrichment = (f_nnz + 0.1) / (f_nnz_overall[None].T + 0.1) * (means + 0.01) / (means_overall[None].T + 0.01)\n",
    "            enrichment = (f_nnz + 0.1) / (f_nnz_other + 0.1) * (means + 0.01) / (means_other + 0.01)\n",
    "\n",
    "            return enrichment\n"
   ]
  },
  {
   "cell_type": "code",
   "execution_count": null,
   "id": "1a2f0d95-9bc7-454f-810b-94351a9e164e",
   "metadata": {},
   "outputs": [],
   "source": []
  }
 ],
 "metadata": {
  "kernelspec": {
   "display_name": "Python [conda env:py39]",
   "language": "python",
   "name": "conda-env-py39-py"
  },
  "language_info": {
   "codemirror_mode": {
    "name": "ipython",
    "version": 3
   },
   "file_extension": ".py",
   "mimetype": "text/x-python",
   "name": "python",
   "nbconvert_exporter": "python",
   "pygments_lexer": "ipython3",
   "version": "3.9.13"
  }
 },
 "nbformat": 4,
 "nbformat_minor": 5
}
